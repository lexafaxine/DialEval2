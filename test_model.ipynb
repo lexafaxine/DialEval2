{
 "cells": [
  {
   "cell_type": "code",
   "execution_count": null,
   "id": "794bdd0b-237e-428c-9060-cd9c59698eee",
   "metadata": {},
   "outputs": [],
   "source": [
    "import json\n",
    "import os\n",
    "import numpy as np\n",
    "import tensorflow as tf\n",
    "from pathlib2 import Path\n",
    "import preprocess\n",
    "from data_loader import create_dataset, create_inputs"
   ]
  },
  {
   "cell_type": "code",
   "execution_count": null,
   "id": "c0b863cb-4f71-404e-b611-4f9a69c78b11",
   "metadata": {},
   "outputs": [],
   "source": [
    "def prepare_data(data_dir, language):\n",
    "    if language == \"Chinese\":\n",
    "        train_path = data_dir / \"train_cn.json\"\n",
    "        test_path = data_dir / \"test_cn.json\"\n",
    "        dev_path = data_dir / \"dev_cn.json\"\n",
    "\n",
    "    elif language == \"English\":\n",
    "        train_path = data_dir / \"train_en.json\"\n",
    "        test_path = data_dir / \"test_en.json\"\n",
    "        dev_path = data_dir / \"dev_en.json\"\n",
    "\n",
    "    else:\n",
    "        raise ValueError(\"Language must be English or Chinese\")\n",
    "\n",
    "    if not os.path.isfile(test_path):\n",
    "        test_path = None\n",
    "\n",
    "    return train_path, dev_path, test_path\n",
    "\n",
    "data_dir = \"./dataset\"\n",
    "language = \"Chinese\"\n",
    "train_path, dev_path, test_path = prepare_data(data_dir=Path(data_dir), language=language)\n",
    "train_path, dev_path, test_path"
   ]
  },
  {
   "cell_type": "code",
   "execution_count": null,
   "id": "fc728443-65af-421d-853b-18e5901d5bea",
   "metadata": {},
   "outputs": [],
   "source": [
    "data  = create_inputs(json_path=train_path, plm=\"BERT\",\n",
    "                                                max_len=512,\n",
    "                                                is_train=True, language=\"Chinese\", task=\"nugget\")\n",
    "dataset = create_dataset(data, \"nugget\")\n",
    "a = list(dataset.take(1))"
   ]
  },
  {
   "cell_type": "code",
   "execution_count": null,
   "id": "69211fef-ed59-4f18-9b63-bce41ee1a609",
   "metadata": {},
   "outputs": [],
   "source": [
    "from model import create_dialogue_model\n",
    "model = create_dialogue_model(plm_name=\"BERT\", language=\"Chinese\", max_turn_number=7, layer_num=1)"
   ]
  },
  {
   "cell_type": "code",
   "execution_count": null,
   "id": "6e942560-df58-4e0d-bf20-27894cb9cddb",
   "metadata": {},
   "outputs": [],
   "source": [
    "model.summary()"
   ]
  },
  {
   "cell_type": "code",
   "execution_count": null,
   "id": "7ca2b604-e1d2-4e7e-b17d-ae06768cb9f1",
   "metadata": {
    "tags": []
   },
   "outputs": [],
   "source": [
    "tf.keras.utils.plot_model(model, to_file='model.png', show_shapes=True)"
   ]
  },
  {
   "cell_type": "code",
   "execution_count": null,
   "id": "7cdb16bc-98a1-4316-a742-0b9fa29a759a",
   "metadata": {},
   "outputs": [],
   "source": [
    "ckpt_path = \"./checkpoint/\""
   ]
  },
  {
   "cell_type": "code",
   "execution_count": null,
   "id": "85c77cdd-7554-4291-bc9e-1fb0b0f9702e",
   "metadata": {},
   "outputs": [],
   "source": [
    "callback = tf.keras.callbacks.ModelCheckpoint(filepath=ckpt_path, save_weights_only=True, verbose=1, monitor=\"val_rnss\", save_best_only=True, mode=\"max\")"
   ]
  },
  {
   "cell_type": "code",
   "execution_count": null,
   "id": "60e189e4-f454-4304-9d9f-b84cc7fb4fff",
   "metadata": {},
   "outputs": [],
   "source": [
    "data2  = create_inputs(json_path=dev_path, plm=\"BERT\",\n",
    "                                                max_len=512,\n",
    "                                                is_train=True, language=\"Chinese\", task=\"nugget\")\n",
    "val_dataset = create_dataset(data2, \"nugget\", 10000)"
   ]
  },
  {
   "cell_type": "code",
   "execution_count": null,
   "id": "693426b6-0f4b-4d1a-a8c0-3d75c4a0c3a9",
   "metadata": {},
   "outputs": [],
   "source": [
    "history = model.fit(x=dataset, epochs=3, verbose=\"auto\",\n",
    "                                                   callbacks=callback, validation_data=val_dataset, \n",
    "                    steps_per_epoch=128)"
   ]
  },
  {
   "cell_type": "code",
   "execution_count": null,
   "id": "a8ebd50c-6e14-4af1-9f03-da7997a4723a",
   "metadata": {},
   "outputs": [],
   "source": []
  }
 ],
 "metadata": {
  "kernelspec": {
   "display_name": "Python 3 (ipykernel)",
   "language": "python",
   "name": "python3"
  },
  "language_info": {
   "codemirror_mode": {
    "name": "ipython",
    "version": 3
   },
   "file_extension": ".py",
   "mimetype": "text/x-python",
   "name": "python",
   "nbconvert_exporter": "python",
   "pygments_lexer": "ipython3",
   "version": "3.8.5"
  }
 },
 "nbformat": 4,
 "nbformat_minor": 5
}
