{
 "cells": [
  {
   "cell_type": "code",
   "execution_count": 1,
   "id": "d7d32bca-7cc3-4834-b695-10b56d24cce8",
   "metadata": {},
   "outputs": [
    {
     "name": "stderr",
     "output_type": "stream",
     "text": [
      "2021-12-03 17:36:37.251265: W tensorflow/stream_executor/platform/default/dso_loader.cc:64] Could not load dynamic library 'libcudart.so.11.0'; dlerror: libcudart.so.11.0: cannot open shared object file: No such file or directory\n",
      "2021-12-03 17:36:37.251379: I tensorflow/stream_executor/cuda/cudart_stub.cc:29] Ignore above cudart dlerror if you do not have a GPU set up on your machine.\n"
     ]
    }
   ],
   "source": [
    "import json\n",
    "import os\n",
    "import numpy as np\n",
    "import tensorflow as tf\n",
    "from pathlib2 import Path\n",
    "import preprocess\n",
    "from data_loader import create_dataset, create_inputs"
   ]
  },
  {
   "cell_type": "code",
   "execution_count": 2,
   "id": "0ab63070-3bd4-4761-8dfa-d22302bb15ed",
   "metadata": {},
   "outputs": [
    {
     "data": {
      "text/plain": [
       "(PosixPath('dataset/train_cn.json'), PosixPath('dataset/dev_cn.json'), None)"
      ]
     },
     "execution_count": 2,
     "metadata": {},
     "output_type": "execute_result"
    }
   ],
   "source": [
    "def prepare_data(data_dir, language):\n",
    "    if language == \"Chinese\":\n",
    "        train_path = data_dir / \"train_cn.json\"\n",
    "        test_path = data_dir / \"test_cn.json\"\n",
    "        dev_path = data_dir / \"dev_cn.json\"\n",
    "\n",
    "    elif language == \"English\":\n",
    "        train_path = data_dir / \"train_en.json\"\n",
    "        test_path = data_dir / \"test_en.json\"\n",
    "        dev_path = data_dir / \"dev_en.json\"\n",
    "\n",
    "    else:\n",
    "        raise ValueError(\"Language must be English or Chinese\")\n",
    "\n",
    "    if not os.path.isfile(test_path):\n",
    "        test_path = None\n",
    "\n",
    "    return train_path, dev_path, test_path\n",
    "\n",
    "data_dir = \"./dataset\"\n",
    "language = \"Chinese\"\n",
    "train_path, dev_path, test_path = prepare_data(data_dir=Path(data_dir), language=language)\n",
    "train_path, dev_path, test_path"
   ]
  },
  {
   "cell_type": "code",
   "execution_count": 3,
   "id": "063a7dce-3e95-4ea1-8312-7c93498fca5b",
   "metadata": {},
   "outputs": [
    {
     "name": "stderr",
     "output_type": "stream",
     "text": [
      "2021-12-03 17:36:38.283602: W tensorflow/stream_executor/platform/default/dso_loader.cc:64] Could not load dynamic library 'libcuda.so.1'; dlerror: libcuda.so.1: cannot open shared object file: No such file or directory\n",
      "2021-12-03 17:36:38.283663: W tensorflow/stream_executor/cuda/cuda_driver.cc:269] failed call to cuInit: UNKNOWN ERROR (303)\n",
      "2021-12-03 17:36:38.283677: I tensorflow/stream_executor/cuda/cuda_diagnostics.cc:156] kernel driver does not appear to be running on this host (DESKTOP-EFG9I9T): /proc/driver/nvidia/version does not exist\n",
      "2021-12-03 17:36:38.283875: I tensorflow/core/platform/cpu_feature_guard.cc:151] This TensorFlow binary is optimized with oneAPI Deep Neural Network Library (oneDNN) to use the following CPU instructions in performance-critical operations:  AVX2 FMA\n",
      "To enable them in other operations, rebuild TensorFlow with the appropriate compiler flags.\n",
      "2021-12-03 17:36:48.324211: I tensorflow/core/kernels/data/shuffle_dataset_op.cc:380] Filling up shuffle buffer (this may take a while): 3739 of 10000\n",
      "2021-12-03 17:36:48.764981: I tensorflow/core/kernels/data/shuffle_dataset_op.cc:405] Shuffle buffer filled.\n"
     ]
    }
   ],
   "source": [
    "data1  = create_inputs(json_path=train_path, plm=\"BERT\", max_len=512, is_train=True, language=\"Chinese\",\n",
    "                      task=\"nugget\")\n",
    "train_dataset = create_dataset(data1, \"nugget\", 10000)\n",
    "a = list(train_dataset.take(1))"
   ]
  },
  {
   "cell_type": "code",
   "execution_count": 4,
   "id": "5fda0975-48a7-48e9-b3dc-63d4561644d3",
   "metadata": {},
   "outputs": [
    {
     "name": "stderr",
     "output_type": "stream",
     "text": [
      "Some layers from the model checkpoint at bert-base-chinese were not used when initializing TFBertModel: ['nsp___cls', 'mlm___cls']\n",
      "- This IS expected if you are initializing TFBertModel from the checkpoint of a model trained on another task or with another architecture (e.g. initializing a BertForSequenceClassification model from a BertForPreTraining model).\n",
      "- This IS NOT expected if you are initializing TFBertModel from the checkpoint of a model that you expect to be exactly identical (initializing a BertForSequenceClassification model from a BertForSequenceClassification model).\n",
      "All the layers of TFBertModel were initialized from the model checkpoint at bert-base-chinese.\n",
      "If your task is similar to the task the model of the checkpoint was trained on, you can already use TFBertModel for predictions without further training.\n"
     ]
    }
   ],
   "source": [
    "input_ids = a[0][\"input_ids\"]\n",
    "input_mask = a[0][\"input_mask\"]\n",
    "input_type_ids = a[0][\"input_type_ids\"]\n",
    "sentence_ids = a[0][\"sentence_ids\"]\n",
    "sentence_masks = a[0][\"sentence_masks\"]\n",
    "inputs = {\n",
    "        \"input_ids\": input_ids, \"input_mask\": input_mask, \"input_type_ids\": input_type_ids,\n",
    "        \"sentence_ids\": sentence_ids, \"sentence_masks\": sentence_masks\n",
    "    }\n",
    "from model import Bert\n",
    "plm = Bert(language=language, embedding_size=0)\n",
    "\n",
    "x = plm(inputs)"
   ]
  },
  {
   "cell_type": "code",
   "execution_count": 5,
   "id": "de0cfa3a-0975-4f83-a6ef-aac5954a9e8f",
   "metadata": {},
   "outputs": [
    {
     "name": "stdout",
     "output_type": "stream",
     "text": [
      "(16, 7)\n"
     ]
    }
   ],
   "source": [
    "from model import TransformerEncoder\n",
    "encoder = TransformerEncoder(d_model=768, num_heads=8, d_ff=200, maximum_position_encoding=5000, rate=0.1, num_layers=1)\n",
    "test = encoder(x, training=True, mask=sentence_masks)"
   ]
  },
  {
   "cell_type": "code",
   "execution_count": 6,
   "id": "39fac071-705b-4a7e-8a09-f9c1f3d1e2b3",
   "metadata": {},
   "outputs": [
    {
     "data": {
      "text/plain": [
       "TensorShape([16, 7, 768])"
      ]
     },
     "execution_count": 6,
     "metadata": {},
     "output_type": "execute_result"
    }
   ],
   "source": [
    "test.shape"
   ]
  },
  {
   "cell_type": "code",
   "execution_count": 7,
   "id": "9fc4b054-6bba-46dd-a84f-07f1f2aed013",
   "metadata": {},
   "outputs": [],
   "source": [
    "from model import CustomDense\n",
    "sentence_masks = a[0][\"sentence_masks\"]\n",
    "dense = CustomDense(4, 3, 7)\n",
    "clogits, hlogits = dense(test, mask=sentence_masks)"
   ]
  },
  {
   "cell_type": "code",
   "execution_count": 8,
   "id": "3f72c49d-0160-4da0-89d4-f0a35389c2a4",
   "metadata": {},
   "outputs": [],
   "source": [
    "customer_labels = a[0][\"customer_labels\"]\n",
    "helpdesk_labels = a[0][\"helpdesk_labels\"]\n",
    "inputs2 = {\"customer_labels\": customer_labels, \"helpdesk_labels\": helpdesk_labels,\n",
    "          \"customer_logits\": clogits, \"helpdesk_logits\": hlogits}"
   ]
  },
  {
   "cell_type": "code",
   "execution_count": 9,
   "id": "7f7496e4-ceea-4910-a33a-5ad3151f7754",
   "metadata": {
    "tags": []
   },
   "outputs": [
    {
     "name": "stdout",
     "output_type": "stream",
     "text": [
      "(16, 4) (16, 3)\n",
      "tf.Tensor(\n",
      "[4.878669  2.8054245 4.329717  3.1554027 5.7458534 1.7262712 4.0557\n",
      " 3.5113597 1.9150896 3.3787055 3.025288  1.6535207 4.341744  2.8330867\n",
      " 1.3862944 5.3751006], shape=(16,), dtype=float32) tf.Tensor(\n",
      "[5.974622  3.8588386 3.2730818 4.350981  6.7058606 1.304442  4.158972\n",
      " 5.7255797 1.5271741 3.9570093 4.4696436 1.4189701 4.5971127 1.350988\n",
      " 1.0688771 3.5857024], shape=(16,), dtype=float32)\n",
      "xxx tf.Tensor(6.9653177, shape=(), dtype=float32)\n",
      "tf.Tensor(\n",
      "[[[0.21141364 0.3048147  0.21141364 0.272358  ]\n",
      "  [0.1992519  0.32062694 0.14135268 0.3387685 ]\n",
      "  [0.14752297 0.39770296 0.14752297 0.3072511 ]\n",
      "  [0.09462867 0.6295936  0.09462867 0.18114896]]\n",
      "\n",
      " [[0.2691574  0.40651464 0.16216394 0.16216394]\n",
      "  [0.25       0.25       0.25       0.25      ]\n",
      "  [0.         0.         0.         0.        ]\n",
      "  [0.         0.         0.         0.        ]]\n",
      "\n",
      " [[0.2276972  0.30551267 0.23909299 0.2276972 ]\n",
      "  [0.15884523 0.1766951  0.50561446 0.15884523]\n",
      "  [0.16188608 0.38421854 0.23544784 0.21844752]\n",
      "  [0.         0.         0.         0.        ]]\n",
      "\n",
      " [[0.13395615 0.4970842  0.11603375 0.2529259 ]\n",
      "  [0.35112458 0.35299626 0.14793958 0.14793958]\n",
      "  [0.         0.         0.         0.        ]\n",
      "  [0.         0.         0.         0.        ]]\n",
      "\n",
      " [[0.20184548 0.43201852 0.18306799 0.18306799]\n",
      "  [0.3271366  0.26635566 0.1882517  0.21825601]\n",
      "  [0.32778978 0.34679666 0.1627068  0.1627068 ]\n",
      "  [0.08511871 0.7244601  0.08511871 0.10530255]]\n",
      "\n",
      " [[0.17794673 0.46615973 0.17794673 0.17794673]\n",
      "  [0.         0.         0.         0.        ]\n",
      "  [0.         0.         0.         0.        ]\n",
      "  [0.         0.         0.         0.        ]]\n",
      "\n",
      " [[0.1444575  0.56662744 0.1444575  0.1444575 ]\n",
      "  [0.17060052 0.38713166 0.20362152 0.23864628]\n",
      "  [0.17166433 0.4844075  0.17226383 0.17166433]\n",
      "  [0.         0.         0.         0.        ]]\n",
      "\n",
      " [[0.23314533 0.25818366 0.27552575 0.23314533]\n",
      "  [0.17408694 0.44232607 0.20949996 0.17408694]\n",
      "  [0.10253672 0.642401   0.15252563 0.10253672]\n",
      "  [0.         0.         0.         0.        ]]\n",
      "\n",
      " [[0.11536094 0.10675689 0.23483388 0.5430484 ]\n",
      "  [0.         0.         0.         0.        ]\n",
      "  [0.         0.         0.         0.        ]\n",
      "  [0.         0.         0.         0.        ]]\n",
      "\n",
      " [[0.12059994 0.6093762  0.12059994 0.14942396]\n",
      "  [0.14350922 0.2917011  0.14350922 0.42128044]\n",
      "  [0.         0.         0.         0.        ]\n",
      "  [0.         0.         0.         0.        ]]\n",
      "\n",
      " [[0.1742413  0.47727612 0.1742413  0.1742413 ]\n",
      "  [0.22586563 0.2969024  0.3218737  0.15535828]\n",
      "  [0.         0.         0.         0.        ]\n",
      "  [0.         0.         0.         0.        ]]\n",
      "\n",
      " [[0.14629851 0.18343489 0.14629851 0.5239681 ]\n",
      "  [0.         0.         0.         0.        ]\n",
      "  [0.         0.         0.         0.        ]\n",
      "  [0.         0.         0.         0.        ]]\n",
      "\n",
      " [[0.23866743 0.23866743 0.23866743 0.28399777]\n",
      "  [0.30128977 0.1858198  0.1858198  0.32707065]\n",
      "  [0.18755214 0.3800294  0.245215   0.18720345]\n",
      "  [0.         0.         0.         0.        ]]\n",
      "\n",
      " [[0.25313413 0.17208149 0.17208149 0.40270302]\n",
      "  [0.4421773  0.23375681 0.16203293 0.16203293]\n",
      "  [0.         0.         0.         0.        ]\n",
      "  [0.         0.         0.         0.        ]]\n",
      "\n",
      " [[0.25       0.25       0.25       0.25      ]\n",
      "  [0.         0.         0.         0.        ]\n",
      "  [0.         0.         0.         0.        ]\n",
      "  [0.         0.         0.         0.        ]]\n",
      "\n",
      " [[0.13008286 0.50041294 0.20025489 0.16924934]\n",
      "  [0.48024243 0.16510761 0.17091611 0.18373384]\n",
      "  [0.18112239 0.18112239 0.39466485 0.2430903 ]\n",
      "  [0.         0.         0.         0.        ]]], shape=(16, 4, 4), dtype=float32) tf.Tensor(\n",
      "[[[0.07825575 0.1322069  0.7895373 ]\n",
      "  [0.15860815 0.2003751  0.6410167 ]\n",
      "  [0.05356284 0.12906753 0.81736964]]\n",
      "\n",
      " [[0.07212927 0.09370256 0.8341682 ]\n",
      "  [0.09551767 0.09551767 0.8089646 ]\n",
      "  [0.         0.         0.        ]]\n",
      "\n",
      " [[0.19668826 0.41548356 0.38782817]\n",
      "  [0.17605081 0.3299588  0.4939904 ]\n",
      "  [0.         0.         0.        ]]\n",
      "\n",
      " [[0.0869371  0.2776509  0.635412  ]\n",
      "  [0.05111553 0.14553067 0.80335385]\n",
      "  [0.         0.         0.        ]]\n",
      "\n",
      " [[0.08491196 0.08651766 0.82857037]\n",
      "  [0.061197   0.48669884 0.4521041 ]\n",
      "  [0.08413642 0.1306662  0.78519744]]\n",
      "\n",
      " [[0.14590725 0.4257848  0.42830798]\n",
      "  [0.         0.         0.        ]\n",
      "  [0.         0.         0.        ]]\n",
      "\n",
      " [[0.2060696  0.11004258 0.6838878 ]\n",
      "  [0.2366078  0.2366078  0.52678436]\n",
      "  [0.21613711 0.34807706 0.4357858 ]]\n",
      "\n",
      " [[0.07881511 0.59189504 0.32928976]\n",
      "  [0.08200267 0.7116995  0.20629793]\n",
      "  [0.09065061 0.2330303  0.6763191 ]]\n",
      "\n",
      " [[0.16158122 0.61580664 0.22261213]\n",
      "  [0.         0.         0.        ]\n",
      "  [0.         0.         0.        ]]\n",
      "\n",
      " [[0.09262297 0.13814238 0.76923466]\n",
      "  [0.08791507 0.13578571 0.77629924]\n",
      "  [0.         0.         0.        ]]\n",
      "\n",
      " [[0.09008586 0.10349832 0.8064158 ]\n",
      "  [0.06567761 0.06567761 0.86864483]\n",
      "  [0.         0.         0.        ]]\n",
      "\n",
      " [[0.05989279 0.17749117 0.76261604]\n",
      "  [0.         0.         0.        ]\n",
      "  [0.         0.         0.        ]]\n",
      "\n",
      " [[0.09203295 0.25952777 0.64843935]\n",
      "  [0.05077047 0.20997716 0.7392524 ]\n",
      "  [0.13589051 0.2144351  0.64967436]]\n",
      "\n",
      " [[0.20038621 0.31415278 0.48546097]\n",
      "  [0.         0.         0.        ]\n",
      "  [0.         0.         0.        ]]\n",
      "\n",
      " [[0.30186298 0.30186298 0.39627406]\n",
      "  [0.         0.         0.        ]\n",
      "  [0.         0.         0.        ]]\n",
      "\n",
      " [[0.10124592 0.26160544 0.6371487 ]\n",
      "  [0.10221948 0.28190646 0.615874  ]\n",
      "  [0.         0.         0.        ]]], shape=(16, 3, 3), dtype=float32)\n",
      "aaa tf.Tensor(\n",
      "[[0.31666702 0.18216841 0.08897693 0.01951012]\n",
      " [0.23230965 0.15893352 0.125      0.125     ]\n",
      " [0.2983521  0.39966637 0.09588918 0.125     ]\n",
      " [0.48115698 0.19225065 0.125      0.125     ]\n",
      " [0.39648604 0.2387941  0.1896367  0.11576138]\n",
      " [0.42834178 0.125      0.125      0.125     ]\n",
      " [0.49751627 0.11188916 0.03775772 0.125     ]\n",
      " [0.25267607 0.11714105 0.01919281 0.125     ]\n",
      " [0.3715223  0.125      0.125      0.125     ]\n",
      " [0.49356094 0.12211877 0.125      0.125     ]\n",
      " [0.33074164 0.18812282 0.125      0.125     ]\n",
      " [0.28348583 0.125      0.125      0.125     ]\n",
      " [0.2881487  0.21650745 0.10884173 0.125     ]\n",
      " [0.12841773 0.19556768 0.125      0.125     ]\n",
      " [0.08691137 0.125      0.125      0.125     ]\n",
      " [0.4860353  0.3382734  0.19023325 0.125     ]], shape=(16, 4), dtype=float32)\n",
      "bbb tf.Tensor(\n",
      "[[0.37631285 0.34032732 0.32090998]\n",
      " [0.35301685 0.2483595  0.16666669]\n",
      " [0.4242521  0.44930062 0.16666669]\n",
      " [0.38610703 0.37693766 0.16666669]\n",
      " [0.39874008 0.46662635 0.3498335 ]\n",
      " [0.11347211 0.16666669 0.16666669]\n",
      " [0.37132192 0.20178267 0.17362908]\n",
      " [0.4347401  0.33651608 0.11410008]\n",
      " [0.19276088 0.16666669 0.16666669]\n",
      " [0.33472472 0.33772272 0.16666669]\n",
      " [0.4564338  0.44812632 0.16666669]\n",
      " [0.10093207 0.16666669 0.16666669]\n",
      " [0.32517633 0.21236494 0.05019015]\n",
      " [0.17594898 0.16666669 0.16666669]\n",
      " [0.04881558 0.16666669 0.16666669]\n",
      " [0.31267947 0.19833568 0.16666669]], shape=(16, 3), dtype=float32)\n",
      "ccc tf.Tensor(\n",
      "[[1.3294809 1.7283276 2.2452123 3.3398168]\n",
      " [1.5529395 1.8267522 0.        0.       ]\n",
      " [1.3724561 1.1615659 2.1912441 0.       ]\n",
      " [1.0277103 1.6894698 0.        0.       ]\n",
      " [1.167329  1.5330803 1.6993448 2.055387 ]\n",
      " [1.1115829 0.        0.        0.       ]\n",
      " [1.0035923 2.0799289 2.8635423 0.       ]\n",
      " [1.4923196 2.0468407 3.351645  0.       ]\n",
      " [1.2142396 0.        0.        0.       ]\n",
      " [1.0093501 2.0168216 0.        0.       ]\n",
      " [1.2981117 1.7051266 0.        0.       ]\n",
      " [1.4093257 0.        0.        0.       ]\n",
      " [1.3975574 1.6037557 2.099848  0.       ]\n",
      " [1.9805418 1.6771301 0.        0.       ]\n",
      " [2.2621558 0.        0.        0.       ]\n",
      " [1.0204335 1.2818692 1.6970794 0.       ]], shape=(16, 4), dtype=float32)\n",
      "ddd tf.Tensor(\n",
      "[[1.2049978 1.2775028 1.3198798]\n",
      " [1.2510957 1.5047492 0.       ]\n",
      " [1.1185032 1.0771235 0.       ]\n",
      " [1.1864636 1.2038013 0.       ]\n",
      " [1.1632398 1.0498302 1.25763  ]\n",
      " [2.0697951 0.        0.       ]\n",
      " [1.2146288 1.6545628 1.7629597]\n",
      " [1.1008874 1.2856264 2.065814 ]\n",
      " [1.6875579 0.        0.       ]\n",
      " [1.2894765 1.2830445 0.       ]\n",
      " [1.0657612 1.0790112 0.       ]\n",
      " [2.1542716 0.        0.       ]\n",
      " [1.310353  1.6176912 2.658226 ]\n",
      " [1.7533854 0.        0.       ]\n",
      " [2.6782572 0.        0.       ]\n",
      " [1.3386219 1.6669921 0.       ]], shape=(16, 3), dtype=float32)\n",
      "tf.Tensor([4 2 3 2 4 1 3 3 1 2 2 1 3 2 1 3], shape=(16,), dtype=int64) tf.Tensor([3 2 2 2 3 1 3 3 1 2 2 1 3 1 1 2], shape=(16,), dtype=int64)\n",
      "eee tf.Tensor(\n",
      "[2.1607094 1.6898458 1.5750886 1.3585901 1.6137853 1.1115829 1.9823545\n",
      " 2.296935  1.2142396 1.5130858 1.5016191 1.4093257 1.700387  1.828836\n",
      " 2.2621558 1.3331274], shape=(16,), dtype=float32)\n",
      "fff tf.Tensor(\n",
      "[1.2674601 1.3779224 1.0978134 1.1951325 1.1568999 2.0697951 1.5440506\n",
      " 1.4841093 1.6875579 1.2862605 1.0723863 2.1542716 1.8620901 1.7533854\n",
      " 2.6782572 1.5028069], shape=(16,), dtype=float32)\n",
      "rnss: tf.Tensor(1.6169333, shape=(), dtype=float32)\n"
     ]
    }
   ],
   "source": [
    "from model import CustomSoftmax\n",
    "custom_softmax = CustomSoftmax(max_turn_number=7)\n",
    "c_prob, h_prob = custom_softmax(inputs=inputs2, mask=sentence_masks)"
   ]
  },
  {
   "cell_type": "code",
   "execution_count": null,
   "id": "c2e7457c-ef27-499c-b684-2f4b97a948b7",
   "metadata": {},
   "outputs": [],
   "source": [
    "### log2(0)"
   ]
  },
  {
   "cell_type": "code",
   "execution_count": null,
   "id": "0ad8cd99-6325-4e66-b891-298d8fb06860",
   "metadata": {},
   "outputs": [],
   "source": [
    "cprob = tf.nn.softmax(clogits)\n",
    "clabels = a[0][\"customer_labels\"]"
   ]
  },
  {
   "cell_type": "code",
   "execution_count": null,
   "id": "09d613e4-a5b6-45f6-a1e1-a47c4fafcf58",
   "metadata": {
    "tags": []
   },
   "outputs": [],
   "source": [
    "cprob.shape, clabels.shape"
   ]
  },
  {
   "cell_type": "code",
   "execution_count": null,
   "id": "215fe53f-e411-4e6c-9fd8-c0fb0180ce6e",
   "metadata": {
    "tags": []
   },
   "outputs": [],
   "source": [
    "squared_difference = tf.math.squared_difference(\n",
    "    cprob, clabels, name=None\n",
    ")\n",
    "squared_difference"
   ]
  },
  {
   "cell_type": "code",
   "execution_count": null,
   "id": "5be2a32c-68b0-48db-adb2-dfff8d25791e",
   "metadata": {
    "tags": []
   },
   "outputs": [],
   "source": [
    "\n",
    "squared_difference"
   ]
  },
  {
   "cell_type": "code",
   "execution_count": null,
   "id": "6764fe42-6780-477c-b55c-5a9f326c525a",
   "metadata": {
    "tags": []
   },
   "outputs": [],
   "source": [
    "mid = tf.reduce_sum(squared_difference, axis=-1)\n",
    "mid"
   ]
  },
  {
   "cell_type": "code",
   "execution_count": null,
   "id": "4924c200-d991-4a21-941a-6af01dadbf8f",
   "metadata": {
    "tags": []
   },
   "outputs": [],
   "source": [
    "aa = -tf.experimental.numpy.log2(tf.math.sqrt(mid / 2))\n",
    "aa   "
   ]
  },
  {
   "cell_type": "code",
   "execution_count": null,
   "id": "3b27e26a-7bb1-4d11-99a1-bbc55720ce56",
   "metadata": {
    "tags": []
   },
   "outputs": [],
   "source": [
    "xx = aa * tf.cast(cust_mask, tf.float32)\n",
    "xx"
   ]
  },
  {
   "cell_type": "code",
   "execution_count": null,
   "id": "71a9a7e4-6430-4e97-af40-09d9a76ddba4",
   "metadata": {},
   "outputs": [],
   "source": [
    "bb = tf.math.count_nonzero(xx, axis=-1)\n",
    "bb"
   ]
  },
  {
   "cell_type": "code",
   "execution_count": null,
   "id": "1a4c7fdf-f8c8-402b-9b1e-483613c8b34d",
   "metadata": {},
   "outputs": [],
   "source": [
    "tf.math.divide(tf.reduce_sum(xx, axis=-1), tf.cast(bb,dtype=tf.float32))"
   ]
  },
  {
   "cell_type": "code",
   "execution_count": null,
   "id": "fb3eccf1-6fbc-41ac-a7c8-5122f7900e2b",
   "metadata": {},
   "outputs": [],
   "source": [
    "tf.reduce_mean(tf.math.divide(tf.reduce_sum(xx, axis=-1), tf.cast(bb,dtype=tf.float32)))"
   ]
  },
  {
   "cell_type": "code",
   "execution_count": null,
   "id": "9ed63073-f248-4d16-b7bc-7e30544806f7",
   "metadata": {},
   "outputs": [],
   "source": []
  },
  {
   "cell_type": "code",
   "execution_count": null,
   "id": "df0bf8d5-1081-4f72-b70a-9c112a035565",
   "metadata": {
    "tags": []
   },
   "outputs": [],
   "source": [
    "tf.reduce_mean(aa, axis=-1)"
   ]
  },
  {
   "cell_type": "code",
   "execution_count": null,
   "id": "af2899c1-7563-4f39-951c-3e62fa45650e",
   "metadata": {},
   "outputs": [],
   "source": [
    "tf.reduce_mean(xx, axis=-1)"
   ]
  },
  {
   "cell_type": "code",
   "execution_count": null,
   "id": "660c7346-eb4b-4321-8d4c-b62d0380d7b3",
   "metadata": {},
   "outputs": [],
   "source": [
    "r = tf.reduce_sum(mid, axis=-1)\n",
    "from math import log2\n",
    "-log2(tf.reduce_mean(tf.math.sqrt(r/2)))"
   ]
  },
  {
   "cell_type": "code",
   "execution_count": null,
   "id": "c2508519-aa03-4c62-a7bc-596f56ed3eae",
   "metadata": {},
   "outputs": [],
   "source": [
    "cus_rnss = tf.math.sqrt(tf.reduce_sum(tf.reduce_sum(squared_difference, axis=-1), axis=-1) / 2)\n",
    "-tf.experimental.numpy.log2(cus_rnss)"
   ]
  },
  {
   "cell_type": "code",
   "execution_count": null,
   "id": "8751ac6c-389b-4b4c-9f1b-d22e50456dd6",
   "metadata": {
    "tags": []
   },
   "outputs": [],
   "source": [
    "def squared_error(pred, truth):\n",
    "    return ((pred - truth) ** 2)\n",
    "\n",
    "cprob_numpy = cprob.numpy()\n",
    "ctruth_numpy = clabels.numpy()\n",
    "squared_error(cprob_numpy, ctruth_numpy) * cust_mask[:, :, None].numpy()"
   ]
  },
  {
   "cell_type": "code",
   "execution_count": null,
   "id": "6f0199b0-1dc9-4d3f-a34e-0e8d61c76c7e",
   "metadata": {},
   "outputs": [],
   "source": []
  }
 ],
 "metadata": {
  "kernelspec": {
   "display_name": "Python 3 (ipykernel)",
   "language": "python",
   "name": "python3"
  },
  "language_info": {
   "codemirror_mode": {
    "name": "ipython",
    "version": 3
   },
   "file_extension": ".py",
   "mimetype": "text/x-python",
   "name": "python",
   "nbconvert_exporter": "python",
   "pygments_lexer": "ipython3",
   "version": "3.8.5"
  }
 },
 "nbformat": 4,
 "nbformat_minor": 5
}
