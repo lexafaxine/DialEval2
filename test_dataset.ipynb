{
 "cells": [
  {
   "cell_type": "code",
   "execution_count": 1,
   "id": "bf30a412-85a6-4888-a820-0e768fcb4378",
   "metadata": {},
   "outputs": [
    {
     "name": "stderr",
     "output_type": "stream",
     "text": [
      "2021-11-30 07:52:46.843606: W tensorflow/stream_executor/platform/default/dso_loader.cc:64] Could not load dynamic library 'libcudart.so.11.0'; dlerror: libcudart.so.11.0: cannot open shared object file: No such file or directory\n",
      "2021-11-30 07:52:46.843643: I tensorflow/stream_executor/cuda/cudart_stub.cc:29] Ignore above cudart dlerror if you do not have a GPU set up on your machine.\n"
     ]
    }
   ],
   "source": [
    "import json\n",
    "import os\n",
    "import numpy as np\n",
    "import tensorflow as tf\n",
    "from pathlib2 import Path\n",
    "import preprocess\n",
    "from data_loader import create_dataset, create_inputs"
   ]
  },
  {
   "cell_type": "code",
   "execution_count": 2,
   "id": "0a6f224e-c1a8-4deb-b4f2-2b21f64a7e18",
   "metadata": {},
   "outputs": [
    {
     "data": {
      "text/plain": [
       "(PosixPath('dataset/train_cn.json'), PosixPath('dataset/dev_cn.json'), None)"
      ]
     },
     "execution_count": 2,
     "metadata": {},
     "output_type": "execute_result"
    }
   ],
   "source": [
    "def prepare_data(data_dir, language):\n",
    "    if language == \"Chinese\":\n",
    "        train_path = data_dir / \"train_cn.json\"\n",
    "        test_path = data_dir / \"test_cn.json\"\n",
    "        dev_path = data_dir / \"dev_cn.json\"\n",
    "\n",
    "    elif language == \"English\":\n",
    "        train_path = data_dir / \"train_en.json\"\n",
    "        test_path = data_dir / \"test_en.json\"\n",
    "        dev_path = data_dir / \"dev_en.json\"\n",
    "\n",
    "    else:\n",
    "        raise ValueError(\"Language must be English or Chinese\")\n",
    "\n",
    "    if not os.path.isfile(test_path):\n",
    "        test_path = None\n",
    "\n",
    "    return train_path, dev_path, test_path\n",
    "\n",
    "data_dir = \"./dataset\"\n",
    "language = \"Chinese\"\n",
    "train_path, dev_path, test_path = prepare_data(data_dir=Path(data_dir), language=language)\n",
    "train_path, dev_path, test_path"
   ]
  },
  {
   "cell_type": "code",
   "execution_count": 3,
   "id": "7f6bf887-dbed-422e-95cf-3c11e81d3b15",
   "metadata": {
    "tags": []
   },
   "outputs": [],
   "source": [
    "model_input, customer_labels, helpdesk_labels,_, embedding_size  = create_inputs(json_path=train_path, plm=\"BERT\",\n",
    "                                                max_len=512,\n",
    "                                                is_train=True, language=\"Chinese\")"
   ]
  },
  {
   "cell_type": "code",
   "execution_count": 4,
   "id": "7cadd071-028b-4884-a126-a7d0980dec4a",
   "metadata": {},
   "outputs": [
    {
     "data": {
      "text/plain": [
       "4090"
      ]
     },
     "execution_count": 4,
     "metadata": {},
     "output_type": "execute_result"
    }
   ],
   "source": [
    "len(customer_labels)"
   ]
  },
  {
   "cell_type": "code",
   "execution_count": null,
   "id": "5973ea88-77e0-4297-8a48-438fa5e642d1",
   "metadata": {
    "tags": []
   },
   "outputs": [],
   "source": [
    "inputs = (model_input, customer_labels, helpdesk_labels, [])\n",
    "dataset = create_dataset(inputs, \"nugget\", 10000)"
   ]
  },
  {
   "cell_type": "code",
   "execution_count": null,
   "id": "e7d761ae-8e5c-4407-83ba-80379cb2645a",
   "metadata": {
    "tags": []
   },
   "outputs": [],
   "source": [
    "inputs = (model_input, customer_labels, helpdesk_labels, [])\n",
    "dataset, max_turn_number = create_dataset(inputs, \"nugget\", 10000)\n",
    "a = list(dataset.take(1))\n"
   ]
  },
  {
   "cell_type": "code",
   "execution_count": null,
   "id": "2046f0c2-03d9-48e1-8341-e088dd30f377",
   "metadata": {},
   "outputs": [],
   "source": []
  }
 ],
 "metadata": {
  "kernelspec": {
   "display_name": "Python 3 (ipykernel)",
   "language": "python",
   "name": "python3"
  },
  "language_info": {
   "codemirror_mode": {
    "name": "ipython",
    "version": 3
   },
   "file_extension": ".py",
   "mimetype": "text/x-python",
   "name": "python",
   "nbconvert_exporter": "python",
   "pygments_lexer": "ipython3",
   "version": "3.8.5"
  }
 },
 "nbformat": 4,
 "nbformat_minor": 5
}
