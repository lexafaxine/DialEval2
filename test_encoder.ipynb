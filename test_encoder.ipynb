{
 "cells": [
  {
   "cell_type": "code",
   "execution_count": null,
   "id": "34c6b14a-a952-4bf6-8ba1-3af7e78c3008",
   "metadata": {},
   "outputs": [],
   "source": [
    "import json\n",
    "import os\n",
    "import numpy as np\n",
    "import tensorflow as tf\n",
    "from pathlib2 import Path\n",
    "import preprocess\n",
    "from data_loader import create_dataset, create_inputs"
   ]
  },
  {
   "cell_type": "code",
   "execution_count": null,
   "id": "40d24b71-2686-4b9f-a674-5cf73832983d",
   "metadata": {},
   "outputs": [],
   "source": [
    "def prepare_data(data_dir, language):\n",
    "    if language == \"Chinese\":\n",
    "        train_path = data_dir / \"train_cn.json\"\n",
    "        test_path = data_dir / \"test_cn.json\"\n",
    "        dev_path = data_dir / \"dev_cn.json\"\n",
    "\n",
    "    elif language == \"English\":\n",
    "        train_path = data_dir / \"train_en.json\"\n",
    "        test_path = data_dir / \"test_en.json\"\n",
    "        dev_path = data_dir / \"dev_en.json\"\n",
    "\n",
    "    else:\n",
    "        raise ValueError(\"Language must be English or Chinese\")\n",
    "\n",
    "    if not os.path.isfile(test_path):\n",
    "        test_path = None\n",
    "\n",
    "    return train_path, dev_path, test_path\n",
    "\n",
    "data_dir = \"./dataset\"\n",
    "language = \"Chinese\"\n",
    "train_path, dev_path, test_path = prepare_data(data_dir=Path(data_dir), language=language)\n",
    "train_path, dev_path, test_path"
   ]
  },
  {
   "cell_type": "code",
   "execution_count": null,
   "id": "73f227a4-ca95-4d74-90f8-aa6613655e01",
   "metadata": {},
   "outputs": [],
   "source": [
    "model_input, customer_labels, helpdesk_labels, _, embedding_size  = create_inputs(json_path=train_path, plm=\"BERT\",\n",
    "                                                max_len=512,\n",
    "                                                is_train=True, language=\"Chinese\")"
   ]
  },
  {
   "cell_type": "code",
   "execution_count": null,
   "id": "96f15a45-832c-4e01-b922-b7acd0c390b1",
   "metadata": {
    "tags": []
   },
   "outputs": [],
   "source": [
    "inputs = (model_input, customer_labels, helpdesk_labels, [])\n",
    "dataset, max_turn_number = create_dataset(inputs, \"nugget\", 10000)\n",
    "a = list(dataset.take(1))"
   ]
  },
  {
   "cell_type": "code",
   "execution_count": null,
   "id": "217a4b9f-f315-4f9b-b2d2-b804e4ba2f68",
   "metadata": {},
   "outputs": [],
   "source": [
    "input_ids = a[0][0][\"input_ids\"]\n",
    "input_mask = a[0][0][\"input_mask\"]\n",
    "input_type_ids = a[0][0][\"input_type_ids\"]\n",
    "inputs = [input_ids, input_mask, input_type_ids]"
   ]
  },
  {
   "cell_type": "code",
   "execution_count": null,
   "id": "fe551c67-c640-4a19-adec-e93c1601191a",
   "metadata": {},
   "outputs": [],
   "source": [
    "from model import Bert\n",
    "plm = Bert(language=language, embedding_size=embedding_size)"
   ]
  },
  {
   "cell_type": "code",
   "execution_count": null,
   "id": "210b555b-42a6-4cd7-b5fa-b92c304c4fad",
   "metadata": {},
   "outputs": [],
   "source": [
    "x = plm(inputs)"
   ]
  },
  {
   "cell_type": "code",
   "execution_count": null,
   "id": "2980257d-0e96-4767-b7cf-b2d0d5c605af",
   "metadata": {},
   "outputs": [],
   "source": [
    "input_type_ids.shape"
   ]
  },
  {
   "cell_type": "code",
   "execution_count": null,
   "id": "1cf0e3db-9815-46d9-9999-619455aab390",
   "metadata": {
    "tags": []
   },
   "outputs": [],
   "source": [
    "x.shape"
   ]
  },
  {
   "cell_type": "code",
   "execution_count": null,
   "id": "684b1b0e-f303-406c-bbab-f566f296fc27",
   "metadata": {
    "tags": []
   },
   "outputs": [],
   "source": [
    "x"
   ]
  },
  {
   "cell_type": "code",
   "execution_count": null,
   "id": "22c2d3c9-a885-4b48-9906-5cfb3763d897",
   "metadata": {},
   "outputs": [],
   "source": [
    "sentence_ids = a[0][0][\"sentence_ids\"]\n",
    "sentence_masks = a[0][0][\"sentence_masks\"]\n",
    "sentence_ids.shape, sentence_masks.shape"
   ]
  },
  {
   "cell_type": "code",
   "execution_count": null,
   "id": "0f388787-94c6-4e0d-abc5-853f4ce61dcd",
   "metadata": {},
   "outputs": [],
   "source": [
    "x.shape, sentence_ids.shape"
   ]
  },
  {
   "cell_type": "code",
   "execution_count": null,
   "id": "e21da6e7-f1ff-434f-a0c5-9088eaae9ada",
   "metadata": {
    "tags": []
   },
   "outputs": [],
   "source": [
    "tf.gather(x, indices=sentence_ids, batch_dims=1) "
   ]
  },
  {
   "cell_type": "code",
   "execution_count": null,
   "id": "ce4014ed-4f9e-45bc-b1b1-6f2c7ecb84e8",
   "metadata": {},
   "outputs": [],
   "source": [
    "sentence_ids[0]"
   ]
  },
  {
   "cell_type": "code",
   "execution_count": null,
   "id": "0ff8c9a3-edcd-48c4-bb6d-5b95bd4ddb68",
   "metadata": {
    "tags": []
   },
   "outputs": [],
   "source": [
    "res = tf.gather(x, indices=sentence_ids, batch_dims=1)\n",
    "print(res[0] == tf.gather(x[0], indices=sentence_ids[0]))"
   ]
  },
  {
   "cell_type": "code",
   "execution_count": null,
   "id": "4b143604-0522-4d6a-a7cb-0425988388ef",
   "metadata": {
    "tags": []
   },
   "outputs": [],
   "source": [
    "res[0]"
   ]
  },
  {
   "cell_type": "code",
   "execution_count": null,
   "id": "f279071a-3abd-4d53-b049-4cc40e77a731",
   "metadata": {
    "tags": []
   },
   "outputs": [],
   "source": [
    "tf.gather(x[0], indices=sentence_ids[0])"
   ]
  },
  {
   "cell_type": "code",
   "execution_count": null,
   "id": "04d6339f-ca57-4839-a46d-d89d551433f3",
   "metadata": {
    "tags": []
   },
   "outputs": [],
   "source": [
    "res"
   ]
  },
  {
   "cell_type": "code",
   "execution_count": null,
   "id": "a01fbacc-ad2b-4dc1-9867-b6a2548451be",
   "metadata": {},
   "outputs": [],
   "source": [
    "res2 = res * tf.cast(sentence_masks[:, :, None], dtype=tf.float32)"
   ]
  },
  {
   "cell_type": "code",
   "execution_count": null,
   "id": "c151f3da-c948-4466-b885-5fd9e9fb5ac2",
   "metadata": {
    "tags": []
   },
   "outputs": [],
   "source": [
    "res2"
   ]
  },
  {
   "cell_type": "code",
   "execution_count": null,
   "id": "bd42afb2-a11c-48bf-892f-148260c98da8",
   "metadata": {},
   "outputs": [],
   "source": [
    "from model import TransformerEncoder\n",
    "encoder = TransformerEncoder(d_model=768, num_heads=8, d_ff=200, maximum_position_encoding=10000, rate=0.1, num_layers=2)"
   ]
  },
  {
   "cell_type": "code",
   "execution_count": null,
   "id": "7ffcf873-a64f-4e92-af15-6e95a47eccfc",
   "metadata": {},
   "outputs": [],
   "source": [
    "posemb = encoder.pos_encoding[:, :7, :]\n",
    "posemb.shape"
   ]
  },
  {
   "cell_type": "code",
   "execution_count": null,
   "id": "70f54051-b25a-4ca6-9c85-0119f7f99549",
   "metadata": {
    "tags": []
   },
   "outputs": [],
   "source": [
    "posemb"
   ]
  },
  {
   "cell_type": "code",
   "execution_count": null,
   "id": "ad9e6190-a844-4da8-b503-436f30da8b5c",
   "metadata": {
    "tags": []
   },
   "outputs": [],
   "source": [
    "res2[1]"
   ]
  },
  {
   "cell_type": "code",
   "execution_count": null,
   "id": "a9c0c060-f17a-4ade-b212-7098bc19dedb",
   "metadata": {},
   "outputs": [],
   "source": [
    "res2 += posemb"
   ]
  },
  {
   "cell_type": "code",
   "execution_count": null,
   "id": "13d17e2a-1c5f-43ff-b44f-66292f3b5eb0",
   "metadata": {
    "tags": []
   },
   "outputs": [],
   "source": [
    "res2[1]"
   ]
  },
  {
   "cell_type": "code",
   "execution_count": null,
   "id": "bed80612-18a5-40ab-ae9d-195b3ba09b20",
   "metadata": {},
   "outputs": [],
   "source": [
    "sentence_masks = 1 - sentence_masks"
   ]
  },
  {
   "cell_type": "code",
   "execution_count": null,
   "id": "444eb052-3e0a-4006-967b-6da6d0d61721",
   "metadata": {
    "tags": []
   },
   "outputs": [],
   "source": [
    "sentence_masks"
   ]
  },
  {
   "cell_type": "code",
   "execution_count": null,
   "id": "48489138-74e4-4fa7-a691-3a53127885b5",
   "metadata": {},
   "outputs": [],
   "source": [
    "sentence_masks = tf.expand_dims(sentence_masks, axis=1)"
   ]
  },
  {
   "cell_type": "code",
   "execution_count": null,
   "id": "a3cb5787-8ab3-45d7-af81-c0610c5efb20",
   "metadata": {
    "tags": []
   },
   "outputs": [],
   "source": [
    "sentence_masks"
   ]
  },
  {
   "cell_type": "code",
   "execution_count": null,
   "id": "2d21dc8b-9c25-4dbc-ac01-2534bc812e68",
   "metadata": {
    "tags": []
   },
   "outputs": [],
   "source": [
    "def create_padding_mask(seq):\n",
    "    seq = tf.cast(tf.math.equal(seq, 0), tf.float32)\n",
    "\n",
    "    # add extra dimensions to add the padding\n",
    "    # to the attention logits.\n",
    "    return seq[:, tf.newaxis, tf.newaxis, :]  # (batch_size, 1, 1, seq_len)\n",
    "\n",
    "sentence_masks = create_padding_mask(sentence_masks)\n",
    "sentence_masks"
   ]
  },
  {
   "cell_type": "code",
   "execution_count": null,
   "id": "14cb8aa8-94ab-4861-9e34-b876397e319d",
   "metadata": {},
   "outputs": [],
   "source": [
    "for i in range(encoder.num_layers):\n",
    "    res2 = encoder.enc_layers[i](res2, training=True, mask=sentence_masks)"
   ]
  },
  {
   "cell_type": "code",
   "execution_count": null,
   "id": "487143db-83a8-4115-90e2-843da81cf480",
   "metadata": {
    "tags": []
   },
   "outputs": [],
   "source": [
    "res2.shape"
   ]
  },
  {
   "cell_type": "code",
   "execution_count": null,
   "id": "72618466-ab48-41e9-b9c7-8ae4ca662f8a",
   "metadata": {},
   "outputs": [],
   "source": [
    "customer_indices = tf.range(start=0, delta=2, limit=max_turn_number)\n",
    "helpdesk_indices = tf.range(start=1, delta=2, limit=max_turn_number)"
   ]
  },
  {
   "cell_type": "code",
   "execution_count": null,
   "id": "e8453562-b28b-4f0f-baec-70970bcd46e6",
   "metadata": {
    "tags": []
   },
   "outputs": [],
   "source": [
    "res2"
   ]
  },
  {
   "cell_type": "code",
   "execution_count": null,
   "id": "eac3ed5e-46a5-4607-a176-61119296de7d",
   "metadata": {},
   "outputs": [],
   "source": [
    "cres = tf.gather(res2, indices=customer_indices, axis=1)"
   ]
  },
  {
   "cell_type": "code",
   "execution_count": null,
   "id": "016656dd-c4d4-4e3c-b0bf-0501d25e991b",
   "metadata": {},
   "outputs": [],
   "source": [
    "hres = tf.gather(res2, indices=helpdesk_indices, axis=1)"
   ]
  },
  {
   "cell_type": "code",
   "execution_count": null,
   "id": "b56ff6e3-378c-44bb-a3e7-965bba4fd5b4",
   "metadata": {},
   "outputs": [],
   "source": [
    "cres.shape, hres.shape"
   ]
  },
  {
   "cell_type": "code",
   "execution_count": null,
   "id": "155b18ea-6aea-4984-ab1d-6f3f16576267",
   "metadata": {},
   "outputs": [],
   "source": [
    "customer_dense = tf.keras.layers.Dense(5, activation='gelu')"
   ]
  },
  {
   "cell_type": "code",
   "execution_count": null,
   "id": "a314358f-9878-4798-968c-5fcfad8d7750",
   "metadata": {},
   "outputs": [],
   "source": [
    "clogits = customer_dense(cres) * tf.cast(cust_mask[:, :, None], tf.float32)"
   ]
  },
  {
   "cell_type": "code",
   "execution_count": null,
   "id": "48551dfd-46a6-430b-88e6-995b860a1f7b",
   "metadata": {
    "tags": []
   },
   "outputs": [],
   "source": [
    "clogits"
   ]
  },
  {
   "cell_type": "code",
   "execution_count": null,
   "id": "930cea62-00c4-4333-ad46-1f83b8fafad0",
   "metadata": {},
   "outputs": [],
   "source": [
    "xxxx = tf.nn.softmax(clogits)"
   ]
  },
  {
   "cell_type": "code",
   "execution_count": null,
   "id": "b873b486-ea12-460a-a5da-9ef82b2d0537",
   "metadata": {
    "tags": []
   },
   "outputs": [],
   "source": [
    "tf.math.reduce_sum(xxxx, axis=-1)"
   ]
  },
  {
   "cell_type": "code",
   "execution_count": null,
   "id": "8cce18ce-a6d6-40be-9a70-9cface618408",
   "metadata": {
    "tags": []
   },
   "outputs": [],
   "source": [
    "tf.nn.softmax(clogits)"
   ]
  },
  {
   "cell_type": "code",
   "execution_count": null,
   "id": "5d04d3ad-15a1-429a-8259-c9428a5faae5",
   "metadata": {
    "tags": []
   },
   "outputs": [],
   "source": [
    "a[0][1][\"customer_labels\"]"
   ]
  },
  {
   "cell_type": "code",
   "execution_count": null,
   "id": "c47329ea-63ff-46b5-8f92-c4b06859675b",
   "metadata": {
    "tags": []
   },
   "outputs": [],
   "source": [
    "tf.math.reduce_sum(a[0][1][\"customer_labels\"], axis=-1)"
   ]
  },
  {
   "cell_type": "code",
   "execution_count": null,
   "id": "c8887a2b-59b9-45dd-8662-0eff653419e6",
   "metadata": {},
   "outputs": [],
   "source": [
    "cus_loss = tf.nn.softmax_cross_entropy_with_logits(a[0][1][\"customer_labels\"], clogits, axis=-1)"
   ]
  },
  {
   "cell_type": "code",
   "execution_count": null,
   "id": "a6d0d13b-cf6c-44ce-be1c-7b04d01c24c6",
   "metadata": {},
   "outputs": [],
   "source": [
    "cus_loss.shape"
   ]
  },
  {
   "cell_type": "code",
   "execution_count": null,
   "id": "dfa742ba-47e8-439e-8096-d581e8470d5a",
   "metadata": {
    "tags": []
   },
   "outputs": [],
   "source": [
    "sentence_masks"
   ]
  },
  {
   "cell_type": "code",
   "execution_count": null,
   "id": "7014ab35-d44c-4c87-a133-12f8a8a5fb25",
   "metadata": {
    "tags": []
   },
   "outputs": [],
   "source": [
    "# customer_indices\n",
    "cust_mask = tf.gather(sentence_masks, axis=1, indices=customer_indices)\n",
    "cust_mask"
   ]
  },
  {
   "cell_type": "code",
   "execution_count": null,
   "id": "018d4cbf-ba13-4cf2-b8d2-cdadfc0c3d25",
   "metadata": {
    "tags": []
   },
   "outputs": [],
   "source": [
    "help_mask = tf.gather(sentence_masks, axis=1, indices=helpdesk_indices)\n",
    "help_mask"
   ]
  },
  {
   "cell_type": "code",
   "execution_count": null,
   "id": "69bda632-6f40-4ffd-a895-53d637e3870c",
   "metadata": {},
   "outputs": [],
   "source": [
    "cus_loss.shape, cust_mask.shape"
   ]
  },
  {
   "cell_type": "code",
   "execution_count": null,
   "id": "c16bbcd8-0902-4dc3-be8f-4212c28532fa",
   "metadata": {},
   "outputs": [],
   "source": [
    "cus_loss = cus_loss * tf.cast(cust_mask, tf.float32)"
   ]
  },
  {
   "cell_type": "code",
   "execution_count": null,
   "id": "f910b0e5-f195-4049-83df-8ef86c5e66aa",
   "metadata": {
    "tags": []
   },
   "outputs": [],
   "source": [
    "cus_loss"
   ]
  },
  {
   "cell_type": "code",
   "execution_count": null,
   "id": "1682494e-87ee-4957-add6-ec807d2034de",
   "metadata": {
    "tags": []
   },
   "outputs": [],
   "source": [
    "xx = tf.reduce_sum(cus_loss, axis=-1)\n",
    "xx"
   ]
  },
  {
   "cell_type": "code",
   "execution_count": null,
   "id": "7400b237-a3fb-4f97-90c6-4f0c36c33843",
   "metadata": {},
   "outputs": [],
   "source": [
    "xxx = tf.reduce_mean(xx)"
   ]
  },
  {
   "cell_type": "code",
   "execution_count": null,
   "id": "77a34ee0-0a76-4a70-9f2a-fcb70ff749c4",
   "metadata": {},
   "outputs": [],
   "source": [
    "xxx"
   ]
  },
  {
   "cell_type": "code",
   "execution_count": null,
   "id": "2fd1a86b-ce32-4c05-8350-b1aa19e62cad",
   "metadata": {
    "tags": []
   },
   "outputs": [],
   "source": [
    "cusres = tf.nn.softmax(clogits, axis=-1)\n",
    "cusres.shape, a[0][1][\"customer_labels\"].shape"
   ]
  },
  {
   "cell_type": "code",
   "execution_count": null,
   "id": "377b1908-e0f6-41a8-8242-8307abb73fb2",
   "metadata": {
    "tags": []
   },
   "outputs": [],
   "source": [
    "batch_sum = tf.math.reduce_sum(cusres, axis=-1)\n",
    "batch_sum"
   ]
  },
  {
   "cell_type": "code",
   "execution_count": null,
   "id": "75ddfa44-6f07-4485-bc18-f0cbdd5c60d9",
   "metadata": {},
   "outputs": [],
   "source": [
    "cusres2 = tf.keras.activations.softmax(clogits, axis=-1)\n",
    "tf.math.reduce_sum(cusres2, axis=-1)"
   ]
  },
  {
   "cell_type": "code",
   "execution_count": null,
   "id": "bf7fff99-1457-433e-b960-856fda707137",
   "metadata": {},
   "outputs": [],
   "source": []
  }
 ],
 "metadata": {
  "kernelspec": {
   "display_name": "Python 3 (ipykernel)",
   "language": "python",
   "name": "python3"
  },
  "language_info": {
   "codemirror_mode": {
    "name": "ipython",
    "version": 3
   },
   "file_extension": ".py",
   "mimetype": "text/x-python",
   "name": "python",
   "nbconvert_exporter": "python",
   "pygments_lexer": "ipython3",
   "version": "3.8.5"
  }
 },
 "nbformat": 4,
 "nbformat_minor": 5
}
